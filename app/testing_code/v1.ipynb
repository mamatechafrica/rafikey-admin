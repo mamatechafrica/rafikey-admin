{
 "cells": [
  {
   "cell_type": "code",
   "execution_count": 24,
   "id": "6b3b85a9",
   "metadata": {},
   "outputs": [
    {
     "data": {
      "text/plain": [
       "True"
      ]
     },
     "execution_count": 24,
     "metadata": {},
     "output_type": "execute_result"
    }
   ],
   "source": [
    "from langchain_google_genai import ChatGoogleGenerativeAI\n",
    "from langgraph.prebuilt import create_react_agent\n",
    "from dotenv import load_dotenv\n",
    "\n",
    "load_dotenv()"
   ]
  },
  {
   "cell_type": "code",
   "execution_count": 25,
   "id": "41b8439b",
   "metadata": {},
   "outputs": [],
   "source": [
    "questions = [\n",
    "    \"What are the different types of contraception available?\",\n",
    "    \"How effective is the pill?\",\n",
    "    \"Where can I get contraception near me?\",\n",
    "    \"Are condoms 100 effective?\",\n",
    "    \"Are condoms 100 effective?\",\n",
    "    \"How do I use a condom correctly?\",\n",
    "    \"What's the safest contraception method?\",\n",
    "    \"What's the safest contraception method?\",\n",
    "    \"What are the side effects of birth control pills?\",\n",
    "    \"How does an IUD work?\",\n",
    "    \"Can I get pregnant while on birth control?\",\n",
    "    \"How effective is the pull-out method?\",\n",
    "    \"How effective is the pull-out method?\",\n",
    "    \"How effective is the pull-out method?\",\n",
    "    \"Can I use emergency contraception as regular birth control?\",\n",
    "]"
   ]
  },
  {
   "cell_type": "code",
   "execution_count": 26,
   "id": "9754b6f7",
   "metadata": {},
   "outputs": [],
   "source": [
    "QUESTIONS_PROMPTS = \"\"\"\n",
    "You are an expert analyst specializing in Sexual and Reproductive Health and Rights (SRHR) topics. Your task is to analyze user questions from a database and organize them into a clear, structured list.\n",
    "\n",
    "INSTRUCTIONS:\n",
    "1. Review all user messages/questions provided to you\n",
    "2. Remove duplicates and very similar questions\n",
    "3. Organize the remaining questions into a numbered list\n",
    "4. Present the questions in a clear, concise format\n",
    "\n",
    "\n",
    "OUTPUT FORMAT:\n",
    "Provide a numbered list of unique SRHR questions in this format:\n",
    "1. [Question 1] (frequency: [10])\n",
    "2. [Question 2] (frequency: [1])\n",
    "3. [Question 3] (frequency: [2])\n",
    "...and so on\n",
    "\n",
    "Do not include any introductory text, explanations, or categorizations - just the numbered list of questions.\n",
    "\"\"\""
   ]
  },
  {
   "cell_type": "code",
   "execution_count": 27,
   "id": "5a1cd0ae",
   "metadata": {},
   "outputs": [],
   "source": [
    "llm = ChatGoogleGenerativeAI(model=\"gemini-2.0-flash\")\n",
    "\n",
    "\n",
    "sentiment_agent = create_react_agent(\n",
    "    llm,\n",
    "    tools=[],\n",
    "    prompt=QUESTIONS_PROMPTS\n",
    ")\n"
   ]
  },
  {
   "cell_type": "code",
   "execution_count": 34,
   "id": "645d8c6d",
   "metadata": {},
   "outputs": [],
   "source": [
    "import re \n",
    "import json\n",
    "from typing import List, Dict\n",
    "\n",
    "def extract_json_from_response(response_text: str):\n",
    "    \"\"\"\n",
    "    Extract and parse JSON from a text response that might contain markdown code blocks\n",
    "    \"\"\"\n",
    "    # Try to extract JSON from markdown code blocks first\n",
    "    json_code_block_pattern = r'```(?:json)?\\n(.*?)\\n```'\n",
    "    code_block_match = re.search(json_code_block_pattern, response_text, re.DOTALL)\n",
    "    \n",
    "    if code_block_match:\n",
    "        # Found a code block, try to parse its content as JSON\n",
    "        try:\n",
    "            json_str = code_block_match.group(1).strip()\n",
    "            return json.loads(json_str)\n",
    "        except json.JSONDecodeError:\n",
    "            pass\n",
    "    \n",
    "    # If no code block or parsing failed, try to find any JSON-like structure\n",
    "    json_pattern = r'\\{.*\\}'\n",
    "    json_match = re.search(json_pattern, response_text, re.DOTALL)\n",
    "    \n",
    "    if json_match:\n",
    "        try:\n",
    "            json_str = json_match.group(0)\n",
    "            return json.loads(json_str)\n",
    "        except json.JSONDecodeError:\n",
    "            pass\n",
    "    \n",
    "    # If all parsing attempts fail, return None\n",
    "    return None\n",
    "\n",
    "\n",
    "\n",
    "def extract_questions_with_counts(ai_response: str) -> List[Dict[str, any]]:\n",
    "    \"\"\"\n",
    "    Extract questions and their counts from the AI response text\n",
    "    \"\"\"\n",
    "    # Pattern to match numbered list items with count (e.g., \"1. what is LGBTQ (asked 5 times)\")\n",
    "    pattern = r'\\d+\\.\\s+(.*?)\\s+\\(asked\\s+(\\d+)\\s+times?\\)'\n",
    "    \n",
    "    # Find all matches\n",
    "    matches = re.findall(pattern, ai_response, re.DOTALL)\n",
    "    \n",
    "    # Format the results as a list of dictionaries\n",
    "    questions_with_counts = [\n",
    "        {\n",
    "            \"question\": question.strip(),\n",
    "            \"count\": int(count)\n",
    "        }\n",
    "        for question, count in matches\n",
    "    ]\n",
    "    \n",
    "    return questions_with_counts\n"
   ]
  },
  {
   "cell_type": "code",
   "execution_count": 35,
   "id": "3b0856c4",
   "metadata": {},
   "outputs": [],
   "source": [
    "filtered_questions = sentiment_agent.invoke({\"messages\": questions})"
   ]
  },
  {
   "cell_type": "code",
   "execution_count": 38,
   "id": "934612aa",
   "metadata": {},
   "outputs": [],
   "source": [
    "ai_response = filtered_questions['messages'][-1].content"
   ]
  },
  {
   "cell_type": "code",
   "execution_count": 39,
   "id": "8a2db9eb",
   "metadata": {},
   "outputs": [],
   "source": [
    "sentiment_data = extract_questions_with_counts(ai_response)\n"
   ]
  },
  {
   "cell_type": "code",
   "execution_count": 40,
   "id": "417edf2f",
   "metadata": {},
   "outputs": [
    {
     "name": "stdout",
     "output_type": "stream",
     "text": [
      "[]\n"
     ]
    }
   ],
   "source": [
    "print(sentiment_data)"
   ]
  },
  {
   "cell_type": "code",
   "execution_count": null,
   "id": "ee8473f3",
   "metadata": {},
   "outputs": [],
   "source": []
  }
 ],
 "metadata": {
  "kernelspec": {
   "display_name": "venv",
   "language": "python",
   "name": "python3"
  },
  "language_info": {
   "codemirror_mode": {
    "name": "ipython",
    "version": 3
   },
   "file_extension": ".py",
   "mimetype": "text/x-python",
   "name": "python",
   "nbconvert_exporter": "python",
   "pygments_lexer": "ipython3",
   "version": "3.12.3"
  }
 },
 "nbformat": 4,
 "nbformat_minor": 5
}
